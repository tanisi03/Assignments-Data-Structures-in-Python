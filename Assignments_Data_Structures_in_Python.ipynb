{
  "nbformat": 4,
  "nbformat_minor": 0,
  "metadata": {
    "colab": {
      "provenance": []
    },
    "kernelspec": {
      "name": "python3",
      "display_name": "Python 3"
    },
    "language_info": {
      "name": "python"
    }
  },
  "cells": [
    {
      "cell_type": "markdown",
      "source": [
        "Q1. Write a code to reverse a string?"
      ],
      "metadata": {
        "id": "qGrcwUwy9STZ"
      }
    },
    {
      "cell_type": "code",
      "execution_count": 1,
      "metadata": {
        "colab": {
          "base_uri": "https://localhost:8080/"
        },
        "id": "0tbGLxNt9N-Z",
        "outputId": "7fbf190f-ff7f-481e-d803-febd790dd431"
      },
      "outputs": [
        {
          "output_type": "stream",
          "name": "stdout",
          "text": [
            "olleh\n"
          ]
        }
      ],
      "source": [
        "def reverse_string(s):\n",
        "    return s[::-1]\n",
        "\n",
        "# Example usage:\n",
        "input_str = \"hello\"\n",
        "reversed_str = reverse_string(input_str)\n",
        "print(reversed_str)"
      ]
    },
    {
      "cell_type": "markdown",
      "source": [
        "Q2. Write a code to count the number of vowels in a string?"
      ],
      "metadata": {
        "id": "-AQU5VVo9kzs"
      }
    },
    {
      "cell_type": "code",
      "source": [
        "def count_vowels(s):\n",
        "    vowels = \"aeiouAEIOU\"\n",
        "    count = 0\n",
        "    for char in s:\n",
        "        if char in vowels:\n",
        "            count += 1\n",
        "    return count\n",
        "\n",
        "# Example usage:\n",
        "input_str = \"Hello, World!\"\n",
        "print(count_vowels(input_str))"
      ],
      "metadata": {
        "colab": {
          "base_uri": "https://localhost:8080/"
        },
        "id": "SnZ8UIeK9ibf",
        "outputId": "89201630-9d2e-4ab9-d775-e6f8c79e3857"
      },
      "execution_count": 2,
      "outputs": [
        {
          "output_type": "stream",
          "name": "stdout",
          "text": [
            "3\n"
          ]
        }
      ]
    },
    {
      "cell_type": "markdown",
      "source": [
        "Q3. Write a code to check if a given string is a palindrome or not?"
      ],
      "metadata": {
        "id": "9tgrvv0j9qgc"
      }
    },
    {
      "cell_type": "code",
      "source": [
        "def is_palindrome(s):\n",
        "    # Remove spaces and convert to lowercase for case-insensitive check\n",
        "    s = s.replace(\" \", \"\").lower()\n",
        "    return s == s[::-1]\n",
        "\n",
        "# Example usage:\n",
        "input_str = \"Racecar\"\n",
        "print(is_palindrome(input_str))"
      ],
      "metadata": {
        "colab": {
          "base_uri": "https://localhost:8080/"
        },
        "id": "E2tYaaam9p0I",
        "outputId": "790c777f-d516-49ac-ec0d-01b4973b9223"
      },
      "execution_count": 3,
      "outputs": [
        {
          "output_type": "stream",
          "name": "stdout",
          "text": [
            "True\n"
          ]
        }
      ]
    },
    {
      "cell_type": "markdown",
      "source": [
        "Q4. Write a code to check if two given strings are anagrams of each other?"
      ],
      "metadata": {
        "id": "yqsaiZ7B9y1P"
      }
    },
    {
      "cell_type": "code",
      "source": [
        "def are_anagrams(s1, s2):\n",
        "    # Remove spaces and convert to lowercase for case-insensitive comparison\n",
        "    s1 = s1.replace(\" \", \"\").lower()\n",
        "    s2 = s2.replace(\" \", \"\").lower()\n",
        "    return sorted(s1) == sorted(s2)\n",
        "\n",
        "# Example usage:\n",
        "str1 = \"Listen\"\n",
        "str2 = \"Silent\"\n",
        "print(are_anagrams(str1, str2))"
      ],
      "metadata": {
        "colab": {
          "base_uri": "https://localhost:8080/"
        },
        "id": "0CWPYemL9yNl",
        "outputId": "47db6f57-c4a8-4bc2-f878-30191e5a58f7"
      },
      "execution_count": 4,
      "outputs": [
        {
          "output_type": "stream",
          "name": "stdout",
          "text": [
            "True\n"
          ]
        }
      ]
    },
    {
      "cell_type": "markdown",
      "source": [
        "Q5. Write a code to find all occurrences of a given substring within another string?"
      ],
      "metadata": {
        "id": "8lZjV-2Y95zT"
      }
    },
    {
      "cell_type": "code",
      "source": [
        "def find_all_occurrences(text, substring):\n",
        "    indices = []\n",
        "    start = 0\n",
        "    while True:\n",
        "        pos = text.find(substring, start)\n",
        "        if pos == -1:\n",
        "            break\n",
        "        indices.append(pos)\n",
        "        start = pos + 1  # Move start to next position after the current match\n",
        "    return indices\n",
        "\n",
        "# Example usage:\n",
        "text = \"abracadabra\"\n",
        "substring = \"abra\"\n",
        "print(find_all_occurrences(text, substring))"
      ],
      "metadata": {
        "colab": {
          "base_uri": "https://localhost:8080/"
        },
        "id": "V8QbMdf5949X",
        "outputId": "105f6b3a-1a9e-4533-ca89-1fe2fa0ef363"
      },
      "execution_count": 5,
      "outputs": [
        {
          "output_type": "stream",
          "name": "stdout",
          "text": [
            "[0, 7]\n"
          ]
        }
      ]
    },
    {
      "cell_type": "markdown",
      "source": [
        "Q6. Write a code to perform basic string compression using the counts of repeated characters?"
      ],
      "metadata": {
        "id": "CjiwqANf-Bux"
      }
    },
    {
      "cell_type": "code",
      "source": [
        "def compress_string(s):\n",
        "    if not s:\n",
        "        return \"\"\n",
        "\n",
        "    compressed = []\n",
        "    count = 1\n",
        "    for i in range(1, len(s)):\n",
        "        if s[i] == s[i - 1]:\n",
        "            count += 1\n",
        "        else:\n",
        "            compressed.append(s[i - 1] + str(count))\n",
        "            count = 1\n",
        "    compressed.append(s[-1] + str(count))\n",
        "\n",
        "    compressed_str = \"\".join(compressed)\n",
        "    return compressed_str if len(compressed_str) < len(s) else s\n",
        "\n",
        "# Example usage:\n",
        "input_str = \"aabcccccaaa\"\n",
        "print(compress_string(input_str))"
      ],
      "metadata": {
        "colab": {
          "base_uri": "https://localhost:8080/"
        },
        "id": "pp6O2Ssd-BJs",
        "outputId": "b524f447-ba17-403f-fdc8-dea829b1da3a"
      },
      "execution_count": 6,
      "outputs": [
        {
          "output_type": "stream",
          "name": "stdout",
          "text": [
            "a2b1c5a3\n"
          ]
        }
      ]
    },
    {
      "cell_type": "markdown",
      "source": [
        "Q7. Write a code to determine if a string has all unique characters?"
      ],
      "metadata": {
        "id": "0KsaILmm-IbT"
      }
    },
    {
      "cell_type": "code",
      "source": [
        "def has_unique_chars(s):\n",
        "    return len(set(s)) == len(s)\n",
        "\n",
        "# Example usage:\n",
        "input_str = \"hello\"\n",
        "print(has_unique_chars(input_str))\n",
        "\n",
        "input_str2 = \"world\"\n",
        "print(has_unique_chars(input_str2))"
      ],
      "metadata": {
        "colab": {
          "base_uri": "https://localhost:8080/"
        },
        "id": "1GVRQALi-Hpe",
        "outputId": "bc5c4a16-f272-45fa-906b-f67b6eabb768"
      },
      "execution_count": 7,
      "outputs": [
        {
          "output_type": "stream",
          "name": "stdout",
          "text": [
            "False\n",
            "True\n"
          ]
        }
      ]
    },
    {
      "cell_type": "markdown",
      "source": [
        "Q8. Write a code to convert a given string to uppercase or lowercase?"
      ],
      "metadata": {
        "id": "_sWnESUD-Wgn"
      }
    },
    {
      "cell_type": "code",
      "source": [
        "def convert_case(s, to_upper=True):\n",
        "    if to_upper:\n",
        "        return s.upper()\n",
        "    else:\n",
        "        return s.lower()\n",
        "\n",
        "# Example usage:\n",
        "input_str = \"Hello World!\"\n",
        "\n",
        "print(convert_case(input_str, to_upper=True))\n",
        "print(convert_case(input_str, to_upper=False))"
      ],
      "metadata": {
        "colab": {
          "base_uri": "https://localhost:8080/"
        },
        "id": "NSJdRYoj-V3B",
        "outputId": "a7a6db49-e2d6-4e9e-e323-61387b63fe2b"
      },
      "execution_count": 9,
      "outputs": [
        {
          "output_type": "stream",
          "name": "stdout",
          "text": [
            "HELLO WORLD!\n",
            "hello world!\n"
          ]
        }
      ]
    },
    {
      "cell_type": "markdown",
      "source": [
        "Q9. Write a code to count the number of words in a string?"
      ],
      "metadata": {
        "id": "uYhSwbk--d8-"
      }
    },
    {
      "cell_type": "code",
      "source": [
        "def count_words(s):\n",
        "    # Split the string by whitespace and count the resulting parts\n",
        "    words = s.split()\n",
        "    return len(words)\n",
        "\n",
        "# Example usage:\n",
        "input_str = \"Hello, how are you doing today?\"\n",
        "print(count_words(input_str))"
      ],
      "metadata": {
        "colab": {
          "base_uri": "https://localhost:8080/"
        },
        "id": "0naFV16c-pMn",
        "outputId": "f12365a5-ffdf-4491-c8ce-c99d940c9c20"
      },
      "execution_count": 11,
      "outputs": [
        {
          "output_type": "stream",
          "name": "stdout",
          "text": [
            "6\n"
          ]
        }
      ]
    },
    {
      "cell_type": "markdown",
      "source": [
        "Q10. Write a code to concatenate two strings without using the + operator?"
      ],
      "metadata": {
        "id": "3Ojx26z6-sI2"
      }
    },
    {
      "cell_type": "code",
      "source": [
        "def concatenate_strings(s1, s2):\n",
        "    return \"\".join([s1, s2])\n",
        "\n",
        "# Example usage:\n",
        "str1 = \"Hello, \"\n",
        "str2 = \"World!\"\n",
        "print(concatenate_strings(str1, str2))"
      ],
      "metadata": {
        "colab": {
          "base_uri": "https://localhost:8080/"
        },
        "id": "PXxY_gRs-rWr",
        "outputId": "fe61a216-267c-4085-f2e9-b8d22295bc22"
      },
      "execution_count": 12,
      "outputs": [
        {
          "output_type": "stream",
          "name": "stdout",
          "text": [
            "Hello, World!\n"
          ]
        }
      ]
    },
    {
      "cell_type": "markdown",
      "source": [
        "Q11. Write a code to remove all occurrences of a specific element from a list?"
      ],
      "metadata": {
        "id": "LS0L8oCe-2Wj"
      }
    },
    {
      "cell_type": "code",
      "source": [
        "def remove_all_occurrences(lst, element):\n",
        "    return [x for x in lst if x != element]\n",
        "\n",
        "# Example usage:\n",
        "my_list = [1, 2, 3, 2, 4, 2, 5]\n",
        "element_to_remove = 2\n",
        "print(remove_all_occurrences(my_list, element_to_remove))"
      ],
      "metadata": {
        "colab": {
          "base_uri": "https://localhost:8080/"
        },
        "id": "YllN3eck-yzj",
        "outputId": "d7d683e8-8707-4e3b-a113-b1e2d15435bc"
      },
      "execution_count": 13,
      "outputs": [
        {
          "output_type": "stream",
          "name": "stdout",
          "text": [
            "[1, 3, 4, 5]\n"
          ]
        }
      ]
    },
    {
      "cell_type": "markdown",
      "source": [
        "Q12. Implement a code to find the second largest number in a given list of integers?"
      ],
      "metadata": {
        "id": "7zgV0LgD_frl"
      }
    },
    {
      "cell_type": "code",
      "source": [
        "def second_largest(nums):\n",
        "    unique_nums = list(set(nums))  # Remove duplicates\n",
        "    if len(unique_nums) < 2:\n",
        "        return None  # No second largest if less than 2 unique numbers\n",
        "    unique_nums.sort()\n",
        "    return unique_nums[-2]\n",
        "\n",
        "# Example usage:\n",
        "numbers = [10, 5, 8, 12, 12, 7]\n",
        "print(second_largest(numbers))"
      ],
      "metadata": {
        "colab": {
          "base_uri": "https://localhost:8080/"
        },
        "id": "AWapSbN_-7OZ",
        "outputId": "ad454362-c5f9-4285-9c77-6dafceddecd2"
      },
      "execution_count": 14,
      "outputs": [
        {
          "output_type": "stream",
          "name": "stdout",
          "text": [
            "10\n"
          ]
        }
      ]
    },
    {
      "cell_type": "markdown",
      "source": [
        "Q13. Create a code to count the occurrences of each element in a list and return a dictionary with elements as keys and their counts as values?"
      ],
      "metadata": {
        "id": "wFfAvCK8_ldw"
      }
    },
    {
      "cell_type": "code",
      "source": [
        "def count_occurrences(lst):\n",
        "    counts = {}\n",
        "    for item in lst:\n",
        "        counts[item] = counts.get(item, 0) + 1\n",
        "    return counts\n",
        "\n",
        "# Example usage:\n",
        "my_list = ['apple', 'banana', 'apple', 'orange', 'banana', 'apple']\n",
        "print(count_occurrences(my_list))"
      ],
      "metadata": {
        "colab": {
          "base_uri": "https://localhost:8080/"
        },
        "id": "YvCJ6Dip_kzu",
        "outputId": "b8044084-2dfa-4579-f207-1cd6fe71e07e"
      },
      "execution_count": 15,
      "outputs": [
        {
          "output_type": "stream",
          "name": "stdout",
          "text": [
            "{'apple': 3, 'banana': 2, 'orange': 1}\n"
          ]
        }
      ]
    },
    {
      "cell_type": "markdown",
      "source": [
        "Q14. Write a code to reverse a list in-place without using any built-in reverse functions?"
      ],
      "metadata": {
        "id": "_N0C912C_u-S"
      }
    },
    {
      "cell_type": "code",
      "source": [
        "def reverse_list_in_place(lst):\n",
        "    left, right = 0, len(lst) - 1\n",
        "    while left < right:\n",
        "        lst[left], lst[right] = lst[right], lst[left]  # Swap elements\n",
        "        left += 1\n",
        "        right -= 1\n",
        "\n",
        "# Example usage:\n",
        "my_list = [1, 2, 3, 4, 5]\n",
        "reverse_list_in_place(my_list)\n",
        "print(my_list)"
      ],
      "metadata": {
        "colab": {
          "base_uri": "https://localhost:8080/"
        },
        "id": "t5GS77bv_uOx",
        "outputId": "9301d385-ba26-482d-8406-3cc5280591a1"
      },
      "execution_count": 16,
      "outputs": [
        {
          "output_type": "stream",
          "name": "stdout",
          "text": [
            "[5, 4, 3, 2, 1]\n"
          ]
        }
      ]
    },
    {
      "cell_type": "markdown",
      "source": [
        "Q15. Implement a code to find and remove duplicates from a list while preserving the original order of elements?"
      ],
      "metadata": {
        "id": "4KKVPsvC_2ta"
      }
    },
    {
      "cell_type": "code",
      "source": [
        "def remove_duplicates(lst):\n",
        "    seen = set()\n",
        "    result = []\n",
        "    for item in lst:\n",
        "        if item not in seen:\n",
        "            seen.add(item)\n",
        "            result.append(item)\n",
        "    return result\n",
        "\n",
        "# Example usage:\n",
        "my_list = [3, 5, 3, 2, 5, 1, 2]\n",
        "print(remove_duplicates(my_list))"
      ],
      "metadata": {
        "colab": {
          "base_uri": "https://localhost:8080/"
        },
        "id": "1aewC4He_2GF",
        "outputId": "2efba873-20ab-4598-cf10-ac96ac1d4599"
      },
      "execution_count": 17,
      "outputs": [
        {
          "output_type": "stream",
          "name": "stdout",
          "text": [
            "[3, 5, 2, 1]\n"
          ]
        }
      ]
    },
    {
      "cell_type": "markdown",
      "source": [
        "Q16. Create a code to check if a given list is sorted (either in ascending or descending order) or not?"
      ],
      "metadata": {
        "id": "7aj_qQiI_94h"
      }
    },
    {
      "cell_type": "code",
      "source": [
        "def is_sorted(lst):\n",
        "    if len(lst) < 2:\n",
        "        return True  # A list with 0 or 1 element is sorted by default\n",
        "\n",
        "    ascending = all(lst[i] <= lst[i+1] for i in range(len(lst)-1))\n",
        "    descending = all(lst[i] >= lst[i+1] for i in range(len(lst)-1))\n",
        "\n",
        "    return ascending or descending\n",
        "\n",
        "# Example usage:\n",
        "print(is_sorted([1, 2, 3, 4]))\n",
        "print(is_sorted([4, 3, 2, 1]))\n",
        "print(is_sorted([1, 3, 2, 4]))"
      ],
      "metadata": {
        "colab": {
          "base_uri": "https://localhost:8080/"
        },
        "id": "FlHY_q-E_9Q0",
        "outputId": "0803c19e-e792-4e08-8792-9caae3a56351"
      },
      "execution_count": 18,
      "outputs": [
        {
          "output_type": "stream",
          "name": "stdout",
          "text": [
            "True\n",
            "True\n",
            "False\n"
          ]
        }
      ]
    },
    {
      "cell_type": "markdown",
      "source": [
        "Q17. Write a code to merge two sorted lists into a single sorted list?"
      ],
      "metadata": {
        "id": "zJdz-eGOAKQU"
      }
    },
    {
      "cell_type": "code",
      "source": [
        "def merge_sorted_lists(list1, list2):\n",
        "    merged_list = []\n",
        "    i = 0  # Pointer for list1\n",
        "    j = 0  # Pointer for list2\n",
        "\n",
        "    while i < len(list1) and j < len(list2):\n",
        "        if list1[i] <= list2[j]:\n",
        "            merged_list.append(list1[i])\n",
        "            i += 1\n",
        "        else:\n",
        "            merged_list.append(list2[j])\n",
        "            j += 1\n",
        "\n",
        "    # Append remaining elements from list1 (if any)\n",
        "    while i < len(list1):\n",
        "        merged_list.append(list1[i])\n",
        "        i += 1\n",
        "\n",
        "    # Append remaining elements from list2 (if any)\n",
        "    while j < len(list2):\n",
        "        merged_list.append(list2[j])\n",
        "        j += 1\n",
        "\n",
        "    return merged_list\n",
        "\n",
        "# Example usage:\n",
        "list1 = [1, 3, 5, 7]\n",
        "list2 = [2, 4, 6, 8]\n",
        "print(merge_sorted_lists(list1, list2))\n",
        "\n",
        "list3 = [10, 20, 30]\n",
        "list4 = [5, 15, 25, 35, 45]\n",
        "print(merge_sorted_lists(list3, list4))"
      ],
      "metadata": {
        "colab": {
          "base_uri": "https://localhost:8080/"
        },
        "id": "6hQEEfDVAaz7",
        "outputId": "25849b3d-b5d5-4f0f-cf08-e6133401d82a"
      },
      "execution_count": 22,
      "outputs": [
        {
          "output_type": "stream",
          "name": "stdout",
          "text": [
            "[1, 2, 3, 4, 5, 6, 7, 8]\n",
            "[5, 10, 15, 20, 25, 30, 35, 45]\n"
          ]
        }
      ]
    },
    {
      "cell_type": "markdown",
      "source": [
        "Q18. Implement a code to find the intersection of two given lists?"
      ],
      "metadata": {
        "id": "g1tKbdcoAb58"
      }
    },
    {
      "cell_type": "code",
      "source": [
        "def list_intersection(list1, list2):\n",
        "    return list(set(list1) & set(list2))\n",
        "\n",
        "# Example usage:\n",
        "l1 = [1, 2, 3, 4, 5]\n",
        "l2 = [3, 4, 5, 6, 7]\n",
        "print(list_intersection(l1, l2))"
      ],
      "metadata": {
        "colab": {
          "base_uri": "https://localhost:8080/"
        },
        "id": "9bWu12XAAbTI",
        "outputId": "82cb3ffb-a583-445f-d620-cf26a6b2d497"
      },
      "execution_count": 23,
      "outputs": [
        {
          "output_type": "stream",
          "name": "stdout",
          "text": [
            "[3, 4, 5]\n"
          ]
        }
      ]
    },
    {
      "cell_type": "markdown",
      "source": [
        "Q19. Create a code to find the union of two lists without duplicates?"
      ],
      "metadata": {
        "id": "kHOuviDAAorS"
      }
    },
    {
      "cell_type": "code",
      "source": [
        "def list_union(list1, list2):\n",
        "    return list(set(list1) | set(list2))\n",
        "\n",
        "# Example usage:\n",
        "l1 = [1, 2, 3, 4]\n",
        "l2 = [3, 4, 5, 6]\n",
        "print(list_union(l1, l2))"
      ],
      "metadata": {
        "colab": {
          "base_uri": "https://localhost:8080/"
        },
        "id": "IikUvVJcAn3e",
        "outputId": "4f33163a-c065-4d5b-8d32-aff0e4027441"
      },
      "execution_count": 24,
      "outputs": [
        {
          "output_type": "stream",
          "name": "stdout",
          "text": [
            "[1, 2, 3, 4, 5, 6]\n"
          ]
        }
      ]
    },
    {
      "cell_type": "markdown",
      "source": [
        "Q20. Write a code to shuffle a given list randomly without using any built-in shuffle functions?"
      ],
      "metadata": {
        "id": "eeIVYRXXAxE3"
      }
    },
    {
      "cell_type": "code",
      "source": [
        "import random\n",
        "\n",
        "def shuffle_list(lst):\n",
        "    for i in range(len(lst) - 1, 0, -1):\n",
        "        j = random.randint(0, i)\n",
        "        lst[i], lst[j] = lst[j], lst[i]\n",
        "\n",
        "# Example usage:\n",
        "my_list = [1, 2, 3, 4, 5]\n",
        "shuffle_list(my_list)\n",
        "print(my_list)"
      ],
      "metadata": {
        "colab": {
          "base_uri": "https://localhost:8080/"
        },
        "id": "6iZSOj7AAv9t",
        "outputId": "5f8bce21-e7fc-4bcb-c95f-7379649b668b"
      },
      "execution_count": 25,
      "outputs": [
        {
          "output_type": "stream",
          "name": "stdout",
          "text": [
            "[2, 4, 1, 3, 5]\n"
          ]
        }
      ]
    },
    {
      "cell_type": "markdown",
      "source": [
        "Q21. Write a code that takes two tuples as input and returns a new tuple containing elements that are common to both input tuples?"
      ],
      "metadata": {
        "id": "bXJwQq0AA88K"
      }
    },
    {
      "cell_type": "code",
      "source": [
        "def common_elements(tuple1, tuple2):\n",
        "    return tuple(set(tuple1) & set(tuple2))\n",
        "\n",
        "# Example usage:\n",
        "t1 = (1, 2, 3, 4, 5)\n",
        "t2 = (3, 4, 5, 6, 7)\n",
        "print(common_elements(t1, t2))"
      ],
      "metadata": {
        "colab": {
          "base_uri": "https://localhost:8080/"
        },
        "id": "F4UQaC0tA3uv",
        "outputId": "d4ca2e12-55e6-4194-ce68-82ec30dcaf7a"
      },
      "execution_count": 26,
      "outputs": [
        {
          "output_type": "stream",
          "name": "stdout",
          "text": [
            "(3, 4, 5)\n"
          ]
        }
      ]
    },
    {
      "cell_type": "markdown",
      "source": [
        "Q22. Create a code that prompts the user to enter two sets of integers separated by commas. Then, print the intersection of these two sets?"
      ],
      "metadata": {
        "id": "NflwesqoBhHr"
      }
    },
    {
      "cell_type": "code",
      "source": [
        "def get_set_from_input(prompt):\n",
        "    input_str = input(prompt)\n",
        "    return set(map(int, input_str.split(',')))\n",
        "\n",
        "# Prompt the user\n",
        "set1 = get_set_from_input(\"Enter the first set of integers (comma-separated): \")\n",
        "set2 = get_set_from_input(\"Enter the second set of integers (comma-separated): \")\n",
        "\n",
        "# Compute and display the intersection\n",
        "intersection = set1 & set2\n",
        "print(\"Intersection of the two sets:\", intersection)"
      ],
      "metadata": {
        "colab": {
          "base_uri": "https://localhost:8080/"
        },
        "id": "3pT_x5iGBCfG",
        "outputId": "5731f19f-c865-40f2-a548-38e01f723749"
      },
      "execution_count": 27,
      "outputs": [
        {
          "output_type": "stream",
          "name": "stdout",
          "text": [
            "Enter the first set of integers (comma-separated): 1,2,3,4\n",
            "Enter the second set of integers (comma-separated): 3,4,5,6\n",
            "Intersection of the two sets: {3, 4}\n"
          ]
        }
      ]
    },
    {
      "cell_type": "markdown",
      "source": [
        "Q23. Write a code to concatenate two tuples. The function should take two tuples as input and return a new tuple containing elements from both input tuples?"
      ],
      "metadata": {
        "id": "947oOSy6B0PR"
      }
    },
    {
      "cell_type": "code",
      "source": [
        "def concatenate_tuples(t1, t2):\n",
        "    return t1 + t2\n",
        "\n",
        "# Example usage:\n",
        "tuple1 = (1, 2, 3)\n",
        "tuple2 = (4, 5, 6)\n",
        "result = concatenate_tuples(tuple1, tuple2)\n",
        "print(result)"
      ],
      "metadata": {
        "colab": {
          "base_uri": "https://localhost:8080/"
        },
        "id": "661K3BsoBp5o",
        "outputId": "8896fa25-4207-4f22-f3a2-5e6601d740a0"
      },
      "execution_count": 28,
      "outputs": [
        {
          "output_type": "stream",
          "name": "stdout",
          "text": [
            "(1, 2, 3, 4, 5, 6)\n"
          ]
        }
      ]
    },
    {
      "cell_type": "markdown",
      "source": [
        "Q24.Develop a code that prompts the user to input two sets of strings. Then, print the elements that are present in the first set but not in the second set?"
      ],
      "metadata": {
        "id": "dT14iyVhB-hy"
      }
    },
    {
      "cell_type": "code",
      "source": [
        "def get_string_set(prompt):\n",
        "    input_str = input(prompt)\n",
        "    # Strip whitespace around each element\n",
        "    return set(s.strip() for s in input_str.split(',') if s.strip())\n",
        "\n",
        "# Prompt the user for input\n",
        "set1 = get_string_set(\"Enter the first set of strings (comma-separated): \")\n",
        "set2 = get_string_set(\"Enter the second set of strings (comma-separated): \")\n",
        "\n",
        "# Compute and display the difference\n",
        "difference = set1 - set2\n",
        "print(\"Elements in the first set but not in the second:\", difference)"
      ],
      "metadata": {
        "colab": {
          "base_uri": "https://localhost:8080/"
        },
        "id": "W2zyo9x8B9Qs",
        "outputId": "9c341bf5-d2d9-4dc2-ceda-065202d2d869"
      },
      "execution_count": 29,
      "outputs": [
        {
          "output_type": "stream",
          "name": "stdout",
          "text": [
            "Enter the first set of strings (comma-separated): apple, banana, cherry\n",
            "Enter the second set of strings (comma-separated): banana, mango\n",
            "Elements in the first set but not in the second: {'apple', 'cherry'}\n"
          ]
        }
      ]
    },
    {
      "cell_type": "markdown",
      "source": [
        "Q25. Create a code that takes a tuple and two integers as input. The function should return a new tuple containing elements from the original tuple within the specified range of indices?"
      ],
      "metadata": {
        "id": "pAT5Q-W-CPzT"
      }
    },
    {
      "cell_type": "code",
      "source": [
        "def slice_tuple(t, start, end):\n",
        "    return t[start:end]\n",
        "\n",
        "# Example usage:\n",
        "original_tuple = (10, 20, 30, 40, 50, 60)\n",
        "start_index = 2\n",
        "end_index = 5\n",
        "\n",
        "result = slice_tuple(original_tuple, start_index, end_index)\n",
        "print(result)"
      ],
      "metadata": {
        "colab": {
          "base_uri": "https://localhost:8080/"
        },
        "id": "43nRHa37CHR8",
        "outputId": "7e3e6526-c3d2-450e-c47b-c2a4e506f46f"
      },
      "execution_count": 30,
      "outputs": [
        {
          "output_type": "stream",
          "name": "stdout",
          "text": [
            "(30, 40, 50)\n"
          ]
        }
      ]
    },
    {
      "cell_type": "markdown",
      "source": [
        "Q26. Write a code that prompts the user to input two sets of characters. Then, print the union of these two sets?"
      ],
      "metadata": {
        "id": "44o7YhZRCcg8"
      }
    },
    {
      "cell_type": "code",
      "source": [
        "def get_char_set(prompt):\n",
        "    input_str = input(prompt)\n",
        "    # Split by commas and remove surrounding whitespace from each character\n",
        "    return set(char.strip() for char in input_str.split(',') if char.strip())\n",
        "\n",
        "# Prompt the user\n",
        "set1 = get_char_set(\"Enter the first set of characters (comma-separated): \")\n",
        "set2 = get_char_set(\"Enter the second set of characters (comma-separated): \")\n",
        "\n",
        "# Compute and display the union\n",
        "union_set = set1 | set2\n",
        "print(\"Union of the two sets:\", union_set)"
      ],
      "metadata": {
        "colab": {
          "base_uri": "https://localhost:8080/"
        },
        "id": "Gt9-lWZyCXuy",
        "outputId": "26430c51-df6d-4bb2-8cb8-ae282e7cdada"
      },
      "execution_count": 31,
      "outputs": [
        {
          "output_type": "stream",
          "name": "stdout",
          "text": [
            "Enter the first set of characters (comma-separated): a, b, c\n",
            "Enter the second set of characters (comma-separated): c, d, e\n",
            "Union of the two sets: {'d', 'c', 'a', 'b', 'e'}\n"
          ]
        }
      ]
    },
    {
      "cell_type": "markdown",
      "source": [
        "Q27. Develop a code that takes a tuple of integers as input. The function should return the maximum and minimum values from the tuple using tuple unpacking?"
      ],
      "metadata": {
        "id": "Al6N3wAXCqWH"
      }
    },
    {
      "cell_type": "code",
      "source": [
        "def max_min_from_tuple(t):\n",
        "    max_val = max(t)\n",
        "    min_val = min(t)\n",
        "    return max_val, min_val\n",
        "\n",
        "# Example usage:\n",
        "numbers = (10, 5, 8, 20, 3)\n",
        "maximum, minimum = max_min_from_tuple(numbers)\n",
        "print(\"Max:\", maximum)\n",
        "print(\"Min:\", minimum)"
      ],
      "metadata": {
        "colab": {
          "base_uri": "https://localhost:8080/"
        },
        "id": "MPiS6A2tCitY",
        "outputId": "df32cb4e-585d-4894-9da4-37f9d607befa"
      },
      "execution_count": 32,
      "outputs": [
        {
          "output_type": "stream",
          "name": "stdout",
          "text": [
            "Max: 20\n",
            "Min: 3\n"
          ]
        }
      ]
    },
    {
      "cell_type": "markdown",
      "source": [
        "Q28. Create a code that defines two sets of integers. Then, print the union, intersection, and difference of these two sets?"
      ],
      "metadata": {
        "id": "R_tfKpB7Cx4v"
      }
    },
    {
      "cell_type": "code",
      "source": [
        "# Define two sets of integers\n",
        "set1 = {1, 2, 3, 4, 5}\n",
        "set2 = {4, 5, 6, 7, 8}\n",
        "\n",
        "# Calculate union, intersection, and difference\n",
        "union = set1 | set2\n",
        "intersection = set1 & set2\n",
        "difference = set1 - set2  # Elements in set1 but not in set2\n",
        "\n",
        "# Print the results\n",
        "print(\"Union:\", union)\n",
        "print(\"Intersection:\", intersection)\n",
        "print(\"Difference (set1 - set2):\", difference)"
      ],
      "metadata": {
        "colab": {
          "base_uri": "https://localhost:8080/"
        },
        "id": "PlYH8uLZCvsz",
        "outputId": "f081e12f-14ec-4a58-9a51-23d2450a3180"
      },
      "execution_count": 33,
      "outputs": [
        {
          "output_type": "stream",
          "name": "stdout",
          "text": [
            "Union: {1, 2, 3, 4, 5, 6, 7, 8}\n",
            "Intersection: {4, 5}\n",
            "Difference (set1 - set2): {1, 2, 3}\n"
          ]
        }
      ]
    },
    {
      "cell_type": "markdown",
      "source": [
        "Q29. Write a code that takes a tuple and an element as input. The function should return the count of occurrences of the given element in the tuple?"
      ],
      "metadata": {
        "id": "XsHBoTByC7EW"
      }
    },
    {
      "cell_type": "code",
      "source": [
        "def count_occurrences(t, element):\n",
        "    return t.count(element)\n",
        "\n",
        "# Example usage:\n",
        "my_tuple = (1, 2, 3, 2, 4, 2, 5)\n",
        "element_to_count = 2\n",
        "print(count_occurrences(my_tuple, element_to_count))"
      ],
      "metadata": {
        "colab": {
          "base_uri": "https://localhost:8080/"
        },
        "id": "1S6V55O2C3NG",
        "outputId": "08c3fd39-b618-4a8a-836f-05f22535fce4"
      },
      "execution_count": 34,
      "outputs": [
        {
          "output_type": "stream",
          "name": "stdout",
          "text": [
            "3\n"
          ]
        }
      ]
    },
    {
      "cell_type": "markdown",
      "source": [
        "Q30. Develop a code that prompts the user to input two sets of strings. Then, print the symmetric difference of these two sets?"
      ],
      "metadata": {
        "id": "J2iA20VbDGPr"
      }
    },
    {
      "cell_type": "code",
      "source": [
        "def get_string_set(prompt):\n",
        "    input_str = input(prompt)\n",
        "    return set(s.strip() for s in input_str.split(',') if s.strip())\n",
        "\n",
        "# Get sets from user\n",
        "set1 = get_string_set(\"Enter the first set of strings (comma-separated): \")\n",
        "set2 = get_string_set(\"Enter the second set of strings (comma-separated): \")\n",
        "\n",
        "# Compute symmetric difference\n",
        "sym_diff = set1.symmetric_difference(set2)  # or set1 ^ set2\n",
        "\n",
        "print(\"Symmetric difference of the two sets:\", sym_diff)"
      ],
      "metadata": {
        "colab": {
          "base_uri": "https://localhost:8080/"
        },
        "id": "bjUL4CjgDLiN",
        "outputId": "8756916a-541d-4846-ab90-b46a014266ea"
      },
      "execution_count": 37,
      "outputs": [
        {
          "output_type": "stream",
          "name": "stdout",
          "text": [
            "Enter the first set of strings (comma-separated): apple, banana, cherry\n",
            "Enter the second set of strings (comma-separated): banana, mango, peach\n",
            "Symmetric difference of the two sets: {'mango', 'apple', 'cherry', 'peach'}\n"
          ]
        }
      ]
    },
    {
      "cell_type": "markdown",
      "source": [
        "Q31. Write a code that takes a list of words as input and returns a dictionary where the keys are unique words and the values are the frequencies of those words in the input list?"
      ],
      "metadata": {
        "id": "HKGPsK3nDgGg"
      }
    },
    {
      "cell_type": "code",
      "source": [
        "def word_frequencies(words):\n",
        "    freq = {}\n",
        "    for word in words:\n",
        "        freq[word] = freq.get(word, 0) + 1\n",
        "    return freq\n",
        "\n",
        "# Example usage:\n",
        "word_list = [\"apple\", \"banana\", \"apple\", \"cherry\", \"banana\", \"apple\"]\n",
        "print(word_frequencies(word_list))"
      ],
      "metadata": {
        "colab": {
          "base_uri": "https://localhost:8080/"
        },
        "id": "I3MzAs67DP5s",
        "outputId": "e36d08f3-a3de-4b23-aa2f-8debf8b9f19e"
      },
      "execution_count": 38,
      "outputs": [
        {
          "output_type": "stream",
          "name": "stdout",
          "text": [
            "{'apple': 3, 'banana': 2, 'cherry': 1}\n"
          ]
        }
      ]
    },
    {
      "cell_type": "markdown",
      "source": [
        "Q32. Write a code that takes two dictionaries as input and merges them into a single dictionary. If there are common keys, the values should be added together?"
      ],
      "metadata": {
        "id": "siV7TfQfDsnT"
      }
    },
    {
      "cell_type": "code",
      "source": [
        "def merge_dicts_add_values(dict1, dict2):\n",
        "    merged = dict1.copy()  # Start with dict1’s items\n",
        "    for key, value in dict2.items():\n",
        "        if key in merged:\n",
        "            merged[key] += value\n",
        "        else:\n",
        "            merged[key] = value\n",
        "    return merged\n",
        "\n",
        "# Example usage:\n",
        "d1 = {'a': 10, 'b': 20, 'c': 30}\n",
        "d2 = {'b': 5, 'c': 15, 'd': 40}\n",
        "\n",
        "result = merge_dicts_add_values(d1, d2)\n",
        "print(result)"
      ],
      "metadata": {
        "colab": {
          "base_uri": "https://localhost:8080/"
        },
        "id": "fsWgo0zyDqcM",
        "outputId": "a873806a-40ec-420d-d9ca-a8a44f4820b7"
      },
      "execution_count": 39,
      "outputs": [
        {
          "output_type": "stream",
          "name": "stdout",
          "text": [
            "{'a': 10, 'b': 25, 'c': 45, 'd': 40}\n"
          ]
        }
      ]
    },
    {
      "cell_type": "markdown",
      "source": [
        "Q33. Write a code to access a value in a nested dictionary. The function should take the dictionary and a list of keys as input, and return the corresponding value. If any of the keys do not exist in the dictionary, the function should return None?"
      ],
      "metadata": {
        "id": "4VUm4XJtD1gq"
      }
    },
    {
      "cell_type": "code",
      "source": [
        "def get_nested_value(d, keys):\n",
        "    current = d\n",
        "    for key in keys:\n",
        "        if isinstance(current, dict) and key in current:\n",
        "            current = current[key]\n",
        "        else:\n",
        "            return None\n",
        "    return current\n",
        "\n",
        "# Example usage:\n",
        "nested_dict = {\n",
        "    'a': {\n",
        "        'b': {\n",
        "            'c': 42\n",
        "        }\n",
        "    }\n",
        "}\n",
        "\n",
        "keys = ['a', 'b', 'c']\n",
        "print(get_nested_value(nested_dict, keys))\n",
        "\n",
        "keys_missing = ['a', 'x', 'c']\n",
        "print(get_nested_value(nested_dict, keys_missing))"
      ],
      "metadata": {
        "colab": {
          "base_uri": "https://localhost:8080/"
        },
        "id": "mFnjLCu-DxtJ",
        "outputId": "7460431b-2917-4729-af83-e38bfdca15ca"
      },
      "execution_count": 40,
      "outputs": [
        {
          "output_type": "stream",
          "name": "stdout",
          "text": [
            "42\n",
            "None\n"
          ]
        }
      ]
    },
    {
      "cell_type": "markdown",
      "source": [
        "Q34. Write a code that takes a dictionary as input and returns a sorted version of it based on the values. You can choose whether to sort in ascending or descending order?"
      ],
      "metadata": {
        "id": "16HQlrE-D83K"
      }
    },
    {
      "cell_type": "code",
      "source": [
        "def sort_dict_by_values(d, ascending=True):\n",
        "    sorted_items = sorted(d.items(), key=lambda item: item[1], reverse=not ascending)\n",
        "    return dict(sorted_items)\n",
        "\n",
        "# Example usage:\n",
        "my_dict = {'apple': 5, 'banana': 2, 'cherry': 7, 'date': 3}\n",
        "\n",
        "# Sort ascending\n",
        "sorted_asc = sort_dict_by_values(my_dict, ascending=True)\n",
        "print(\"Ascending:\", sorted_asc)\n",
        "\n",
        "# Sort descending\n",
        "sorted_desc = sort_dict_by_values(my_dict, ascending=False)\n",
        "print(\"Descending:\", sorted_desc)"
      ],
      "metadata": {
        "colab": {
          "base_uri": "https://localhost:8080/"
        },
        "id": "xAOJclyeD8P0",
        "outputId": "c45140ac-4ffa-482d-af3e-bbb8006cf2ec"
      },
      "execution_count": 41,
      "outputs": [
        {
          "output_type": "stream",
          "name": "stdout",
          "text": [
            "Ascending: {'banana': 2, 'date': 3, 'apple': 5, 'cherry': 7}\n",
            "Descending: {'cherry': 7, 'apple': 5, 'date': 3, 'banana': 2}\n"
          ]
        }
      ]
    },
    {
      "cell_type": "markdown",
      "source": [
        "Q35. Write a code that inverts a dictionary, swapping keys and values. Ensure that the inverted dictionary correctly handles cases where multiple keys have the same value by storing the keys as a list in the inverted dictionary?"
      ],
      "metadata": {
        "id": "HVlZ_-GaEK6z"
      }
    },
    {
      "cell_type": "code",
      "source": [
        "def invert_dict(d):\n",
        "    inverted = {}\n",
        "    for key, value in d.items():\n",
        "        if value in inverted:\n",
        "            inverted[value].append(key)\n",
        "        else:\n",
        "            inverted[value] = [key]\n",
        "    return inverted\n",
        "\n",
        "# Example usage:\n",
        "original = {'a': 1, 'b': 2, 'c': 1, 'd': 3}\n",
        "inverted = invert_dict(original)\n",
        "print(inverted)"
      ],
      "metadata": {
        "colab": {
          "base_uri": "https://localhost:8080/"
        },
        "id": "MloYuq60EJeb",
        "outputId": "6bd78cc0-47c7-4026-95a8-511ba40b5c6d"
      },
      "execution_count": 42,
      "outputs": [
        {
          "output_type": "stream",
          "name": "stdout",
          "text": [
            "{1: ['a', 'c'], 2: ['b'], 3: ['d']}\n"
          ]
        }
      ]
    }
  ]
}